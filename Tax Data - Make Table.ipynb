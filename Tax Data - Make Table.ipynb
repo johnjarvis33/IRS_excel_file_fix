{
 "cells": [
  {
   "cell_type": "code",
   "execution_count": 4,
   "id": "3fa30824",
   "metadata": {},
   "outputs": [],
   "source": [
    "#  This step is not needed if you use the following one.\n",
    "\n",
    "import pandas as pd\n",
    "\n",
    "# Load the Excel file\n",
    "df = pd.read_excel(\"C:/Users/alexj/Desktop/Tax Exploration Project/2022 Basic Data to stack.xlsx\", header=None)\n",
    "\n",
    "#  GET THR RIGHT VALUES IN PLACE TO MAKE THE TRANSPOSE USEFUL\n",
    "# Iterate over the first row starting from the second column (index 1)\n",
    "for col in range(1, df.shape[1]):\n",
    "    if pd.isna(df.iloc[0, col]):\n",
    "        df.iloc[0, col] = df.iloc[0, col-1]\n",
    "\n",
    "# Iterate over the second row starting from the second column (index 1)\n",
    "for col in range(1, df.shape[1]):\n",
    "    if pd.isna(df.iloc[1, col]):\n",
    "        df.iloc[1, col] = 'All returns'\n",
    "\n",
    "# Save the modified DataFrame to a new Excel file\n",
    "df.to_excel('updated_excel_file.xlsx', header=False, index=False)\n"
   ]
  },
  {
   "cell_type": "code",
   "execution_count": 13,
   "id": "07366874",
   "metadata": {},
   "outputs": [],
   "source": [
    "#  This step includes the previous step, then transposes the data.\n",
    "\n",
    "import pandas as pd\n",
    "\n",
    "# Load the Excel file\n",
    "df = pd.read_excel(\"C:/Users/alexj/Desktop/Tax Exploration Project/2022 Basic Data to stack.xlsx\", header=None)\n",
    "\n",
    "# Fill the blanks in the first row with the preceding state name\n",
    "for col in range(1, df.shape[1]):\n",
    "    if pd.isna(df.iloc[0, col]):\n",
    "        df.iloc[0, col] = df.iloc[0, col-1]\n",
    "\n",
    "# Fill the blanks in the second row with 'All returns'\n",
    "for col in range(1, df.shape[1]):\n",
    "    if pd.isna(df.iloc[1, col]):\n",
    "        df.iloc[1, col] = 'All returns'\n",
    "\n",
    "# Transpose the DataFrame\n",
    "df_transposed = df.transpose()\n",
    "\n",
    "# Save the transposed DataFrame to a new Excel file\n",
    "df_transposed.to_excel('2022 Tax Brackets Clean.xlsx', header=False, index=False)"
   ]
  },
  {
   "cell_type": "code",
   "execution_count": null,
   "id": "2464fee9",
   "metadata": {},
   "outputs": [],
   "source": []
  }
 ],
 "metadata": {
  "kernelspec": {
   "display_name": "Python 3 (ipykernel)",
   "language": "python",
   "name": "python3"
  },
  "language_info": {
   "codemirror_mode": {
    "name": "ipython",
    "version": 3
   },
   "file_extension": ".py",
   "mimetype": "text/x-python",
   "name": "python",
   "nbconvert_exporter": "python",
   "pygments_lexer": "ipython3",
   "version": "3.11.5"
  }
 },
 "nbformat": 4,
 "nbformat_minor": 5
}
